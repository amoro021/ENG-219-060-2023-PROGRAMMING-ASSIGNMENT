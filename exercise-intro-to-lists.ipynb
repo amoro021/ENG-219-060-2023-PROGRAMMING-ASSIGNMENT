{
 "cells": [
  {
   "cell_type": "markdown",
   "id": "2b1a6a8e",
   "metadata": {
    "papermill": {
     "duration": 0.005861,
     "end_time": "2025-02-26T08:27:12.202724",
     "exception": false,
     "start_time": "2025-02-26T08:27:12.196863",
     "status": "completed"
    },
    "tags": []
   },
   "source": [
    "**This notebook is an exercise in the [Intro to Programming](https://www.kaggle.com/learn/intro-to-programming) course.  You can reference the tutorial at [this link](https://www.kaggle.com/alexisbcook/intro-to-lists).**\n",
    "\n",
    "---\n"
   ]
  },
  {
   "cell_type": "markdown",
   "id": "429bce00",
   "metadata": {
    "papermill": {
     "duration": 0.004859,
     "end_time": "2025-02-26T08:27:12.212962",
     "exception": false,
     "start_time": "2025-02-26T08:27:12.208103",
     "status": "completed"
    },
    "tags": []
   },
   "source": [
    "In the tutorial, you learned how to define and modify Python lists.  In this exercise, you will use your new knowledge to solve several problems.\n",
    "\n",
    "# Set up the notebook\n",
    "\n",
    "Run the next code cell without changes to set up the notebook."
   ]
  },
  {
   "cell_type": "code",
   "execution_count": 1,
   "id": "f1511690",
   "metadata": {
    "execution": {
     "iopub.execute_input": "2025-02-26T08:27:12.226068Z",
     "iopub.status.busy": "2025-02-26T08:27:12.225591Z",
     "iopub.status.idle": "2025-02-26T08:27:13.488896Z",
     "shell.execute_reply": "2025-02-26T08:27:13.487742Z"
    },
    "papermill": {
     "duration": 1.271819,
     "end_time": "2025-02-26T08:27:13.490586",
     "exception": false,
     "start_time": "2025-02-26T08:27:12.218767",
     "status": "completed"
    },
    "tags": []
   },
   "outputs": [
    {
     "name": "stdout",
     "output_type": "stream",
     "text": [
      "Setup complete.\n"
     ]
    }
   ],
   "source": [
    "from learntools.core import binder\n",
    "binder.bind(globals())\n",
    "from learntools.intro_to_programming.ex5 import *\n",
    "print('Setup complete.')"
   ]
  },
  {
   "cell_type": "markdown",
   "id": "aaae02e2",
   "metadata": {
    "papermill": {
     "duration": 0.005103,
     "end_time": "2025-02-26T08:27:13.501520",
     "exception": false,
     "start_time": "2025-02-26T08:27:13.496417",
     "status": "completed"
    },
    "tags": []
   },
   "source": [
    "# Question 1\n",
    "\n",
    "You own a restaurant with five food dishes, organized in the Python list `menu` below.  One day, you decide to:\n",
    "- remove bean soup (`'bean soup'`) from the menu, and\n",
    "- add roasted beet salad (`'roasted beet salad'`) to the menu.\n",
    "\n",
    "Implement this change to the list below.  While completing this task, \n",
    "- do not change the line that creates the `menu` list.  \n",
    "- your answer should use `.remove()` and `.append()`.  "
   ]
  },
  {
   "cell_type": "code",
   "execution_count": 2,
   "id": "408bf7f5",
   "metadata": {
    "execution": {
     "iopub.execute_input": "2025-02-26T08:27:13.513869Z",
     "iopub.status.busy": "2025-02-26T08:27:13.513351Z",
     "iopub.status.idle": "2025-02-26T08:27:13.522361Z",
     "shell.execute_reply": "2025-02-26T08:27:13.521173Z"
    },
    "papermill": {
     "duration": 0.017217,
     "end_time": "2025-02-26T08:27:13.524146",
     "exception": false,
     "start_time": "2025-02-26T08:27:13.506929",
     "status": "completed"
    },
    "tags": []
   },
   "outputs": [
    {
     "data": {
      "application/javascript": [
       "parent.postMessage({\"jupyterEvent\": \"custom.exercise_interaction\", \"data\": {\"outcomeType\": 1, \"valueTowardsCompletion\": 0.2, \"interactionType\": 1, \"questionType\": 2, \"questionId\": \"1_FoodMenu\", \"learnToolsVersion\": \"0.3.4\", \"failureMessage\": \"\", \"exceptionClass\": \"\", \"trace\": \"\"}}, \"*\")"
      ],
      "text/plain": [
       "<IPython.core.display.Javascript object>"
      ]
     },
     "metadata": {},
     "output_type": "display_data"
    },
    {
     "data": {
      "text/markdown": [
       "<span style=\"color:#33cc33\">Correct</span>"
      ],
      "text/plain": [
       "Correct"
      ]
     },
     "metadata": {},
     "output_type": "display_data"
    }
   ],
   "source": [
    "# Do not change: Initial menu for your restaurant\n",
    "menu = ['stewed meat with onions', 'bean soup', 'risotto with trout and shrimp',\n",
    "       'fish soup with cream and onion', 'gyro']\n",
    "\n",
    "# TODO: remove 'bean soup', and add 'roasted beet salad' to the end of the menu\n",
    "menu.remove('bean soup')\n",
    "menu.append('roasted beet salad')\n",
    "\n",
    "# Do not change: Check your answer\n",
    "q1.check()"
   ]
  },
  {
   "cell_type": "code",
   "execution_count": 3,
   "id": "b5ac6231",
   "metadata": {
    "execution": {
     "iopub.execute_input": "2025-02-26T08:27:13.536795Z",
     "iopub.status.busy": "2025-02-26T08:27:13.536387Z",
     "iopub.status.idle": "2025-02-26T08:27:13.540438Z",
     "shell.execute_reply": "2025-02-26T08:27:13.539463Z"
    },
    "papermill": {
     "duration": 0.012338,
     "end_time": "2025-02-26T08:27:13.542164",
     "exception": false,
     "start_time": "2025-02-26T08:27:13.529826",
     "status": "completed"
    },
    "tags": []
   },
   "outputs": [],
   "source": [
    "# Uncomment to see a hint\n",
    "#q1.hint()\n",
    "\n",
    "# Uncomment to see the solution\n",
    "#q1.solution()"
   ]
  },
  {
   "cell_type": "markdown",
   "id": "2613fd05",
   "metadata": {
    "papermill": {
     "duration": 0.005162,
     "end_time": "2025-02-26T08:27:13.553908",
     "exception": false,
     "start_time": "2025-02-26T08:27:13.548746",
     "status": "completed"
    },
    "tags": []
   },
   "source": [
    "# Question 2\n",
    "\n",
    "The list `num_customers` contains the number of customers who came into your restaurant every day over the last month (which lasted thirty days).  Fill in values for each of the following:\n",
    "- `avg_first_seven` - average number of customers who visited in the first seven days\n",
    "- `avg_last_seven` - average number of customers who visited in the last seven days\n",
    "- `max_month` - number of customers on the day that got the most customers in the last month\n",
    "- `min_month` - number of customers on the day that got the least customers in the last month\n",
    "\n",
    "Answer this question by writing code.  For instance, if you have to find the minimum value in a list, use `min()` instead of scanning for the smallest value and directly filling in a number."
   ]
  },
  {
   "cell_type": "code",
   "execution_count": 4,
   "id": "6a1b578a",
   "metadata": {
    "execution": {
     "iopub.execute_input": "2025-02-26T08:27:13.566144Z",
     "iopub.status.busy": "2025-02-26T08:27:13.565782Z",
     "iopub.status.idle": "2025-02-26T08:27:13.574580Z",
     "shell.execute_reply": "2025-02-26T08:27:13.573565Z"
    },
    "papermill": {
     "duration": 0.017018,
     "end_time": "2025-02-26T08:27:13.576478",
     "exception": false,
     "start_time": "2025-02-26T08:27:13.559460",
     "status": "completed"
    },
    "tags": []
   },
   "outputs": [
    {
     "data": {
      "application/javascript": [
       "parent.postMessage({\"jupyterEvent\": \"custom.exercise_interaction\", \"data\": {\"outcomeType\": 1, \"valueTowardsCompletion\": 0.2, \"interactionType\": 1, \"questionType\": 1, \"questionId\": \"2_NumCustomers\", \"learnToolsVersion\": \"0.3.4\", \"failureMessage\": \"\", \"exceptionClass\": \"\", \"trace\": \"\"}}, \"*\")"
      ],
      "text/plain": [
       "<IPython.core.display.Javascript object>"
      ]
     },
     "metadata": {},
     "output_type": "display_data"
    },
    {
     "data": {
      "text/markdown": [
       "<span style=\"color:#33cc33\">Correct</span>"
      ],
      "text/plain": [
       "Correct"
      ]
     },
     "metadata": {},
     "output_type": "display_data"
    }
   ],
   "source": [
    "# Do not change: Number of customers each day for the last month\n",
    "num_customers = [137, 147, 135, 128, 170, 174, 165, 146, 126, 159,\n",
    "                 141, 148, 132, 147, 168, 153, 170, 161, 148, 152,\n",
    "                 141, 151, 131, 149, 164, 163, 143, 143, 166, 171]\n",
    "\n",
    "# TODO: Fill in values for the variables below\n",
    "avg_first_seven = sum(num_customers[:7]) / 7\n",
    "avg_last_seven = sum(num_customers[-7:]) / 7 \n",
    "max_month = max(num_customers)\n",
    "min_month = min(num_customers)\n",
    "\n",
    "# Do not change: Check your answer\n",
    "q2.check()"
   ]
  },
  {
   "cell_type": "code",
   "execution_count": 5,
   "id": "f6676f39",
   "metadata": {
    "execution": {
     "iopub.execute_input": "2025-02-26T08:27:13.589753Z",
     "iopub.status.busy": "2025-02-26T08:27:13.589326Z",
     "iopub.status.idle": "2025-02-26T08:27:13.593329Z",
     "shell.execute_reply": "2025-02-26T08:27:13.592275Z"
    },
    "papermill": {
     "duration": 0.012624,
     "end_time": "2025-02-26T08:27:13.595097",
     "exception": false,
     "start_time": "2025-02-26T08:27:13.582473",
     "status": "completed"
    },
    "tags": []
   },
   "outputs": [],
   "source": [
    "# Uncomment to see a hint\n",
    "#q2.hint()\n",
    "\n",
    "# Uncomment to see the solution\n",
    "#q2.solution()"
   ]
  },
  {
   "cell_type": "markdown",
   "id": "488e83c8",
   "metadata": {
    "papermill": {
     "duration": 0.005371,
     "end_time": "2025-02-26T08:27:13.606360",
     "exception": false,
     "start_time": "2025-02-26T08:27:13.600989",
     "status": "completed"
    },
    "tags": []
   },
   "source": [
    "# Question 3\n",
    "\n",
    "In the tutorial, we gave an example of a Python string with information that was better as a list."
   ]
  },
  {
   "cell_type": "code",
   "execution_count": 6,
   "id": "e3a07543",
   "metadata": {
    "execution": {
     "iopub.execute_input": "2025-02-26T08:27:13.618876Z",
     "iopub.status.busy": "2025-02-26T08:27:13.618485Z",
     "iopub.status.idle": "2025-02-26T08:27:13.622896Z",
     "shell.execute_reply": "2025-02-26T08:27:13.621798Z"
    },
    "papermill": {
     "duration": 0.012776,
     "end_time": "2025-02-26T08:27:13.624651",
     "exception": false,
     "start_time": "2025-02-26T08:27:13.611875",
     "status": "completed"
    },
    "tags": []
   },
   "outputs": [],
   "source": [
    "flowers = \"pink primrose,hard-leaved pocket orchid,canterbury bells,sweet pea,english marigold,tiger lily,moon orchid,bird of paradise,monkshood,globe thistle\""
   ]
  },
  {
   "cell_type": "markdown",
   "id": "0d50ecfd",
   "metadata": {
    "papermill": {
     "duration": 0.005587,
     "end_time": "2025-02-26T08:27:13.636325",
     "exception": false,
     "start_time": "2025-02-26T08:27:13.630738",
     "status": "completed"
    },
    "tags": []
   },
   "source": [
    "You can actually use Python to quickly turn this string into a list with `.split()`.  In the parentheses, we need to provide the character should be used to mark the end of one list item and the beginning of another, and enclose it in quotation marks.  In this case, that character is a comma."
   ]
  },
  {
   "cell_type": "code",
   "execution_count": 7,
   "id": "c71dd1a4",
   "metadata": {
    "execution": {
     "iopub.execute_input": "2025-02-26T08:27:13.649292Z",
     "iopub.status.busy": "2025-02-26T08:27:13.648896Z",
     "iopub.status.idle": "2025-02-26T08:27:13.654589Z",
     "shell.execute_reply": "2025-02-26T08:27:13.653338Z"
    },
    "papermill": {
     "duration": 0.014395,
     "end_time": "2025-02-26T08:27:13.656536",
     "exception": false,
     "start_time": "2025-02-26T08:27:13.642141",
     "status": "completed"
    },
    "tags": []
   },
   "outputs": [
    {
     "name": "stdout",
     "output_type": "stream",
     "text": [
      "['pink primrose', 'hard-leaved pocket orchid', 'canterbury bells', 'sweet pea', 'english marigold', 'tiger lily', 'moon orchid', 'bird of paradise', 'monkshood', 'globe thistle']\n"
     ]
    }
   ],
   "source": [
    " print(flowers.split(\",\"))"
   ]
  },
  {
   "cell_type": "markdown",
   "id": "65e6ed66",
   "metadata": {
    "papermill": {
     "duration": 0.005546,
     "end_time": "2025-02-26T08:27:13.668045",
     "exception": false,
     "start_time": "2025-02-26T08:27:13.662499",
     "status": "completed"
    },
    "tags": []
   },
   "source": [
    "Now it is your turn to try this out!  Create two Python lists:\n",
    "- `letters` should be a Python list where each entry is an uppercase letter of the English alphabet.  For instance, the first two entries should be `\"A\"` and `\"B\"`, and the final two entries should be `\"Y\"` and `\"Z\"`.  Use the string `alphabet` to create this list.\n",
    "- `address` should be a Python list where each row in `address` is a different item in the list.  Currently, each row in `address` is separated by a comma. "
   ]
  },
  {
   "cell_type": "code",
   "execution_count": 8,
   "id": "661a879f",
   "metadata": {
    "execution": {
     "iopub.execute_input": "2025-02-26T08:27:13.681146Z",
     "iopub.status.busy": "2025-02-26T08:27:13.680752Z",
     "iopub.status.idle": "2025-02-26T08:27:13.689388Z",
     "shell.execute_reply": "2025-02-26T08:27:13.688321Z"
    },
    "papermill": {
     "duration": 0.017428,
     "end_time": "2025-02-26T08:27:13.691091",
     "exception": false,
     "start_time": "2025-02-26T08:27:13.673663",
     "status": "completed"
    },
    "tags": []
   },
   "outputs": [
    {
     "data": {
      "application/javascript": [
       "parent.postMessage({\"jupyterEvent\": \"custom.exercise_interaction\", \"data\": {\"outcomeType\": 1, \"valueTowardsCompletion\": 0.2, \"interactionType\": 1, \"questionType\": 1, \"questionId\": \"3_SplitString\", \"learnToolsVersion\": \"0.3.4\", \"failureMessage\": \"\", \"exceptionClass\": \"\", \"trace\": \"\"}}, \"*\")"
      ],
      "text/plain": [
       "<IPython.core.display.Javascript object>"
      ]
     },
     "metadata": {},
     "output_type": "display_data"
    },
    {
     "data": {
      "text/markdown": [
       "<span style=\"color:#33cc33\">Correct</span>"
      ],
      "text/plain": [
       "Correct"
      ]
     },
     "metadata": {},
     "output_type": "display_data"
    }
   ],
   "source": [
    "# DO not change: Define two Python strings\n",
    "alphabet = \"A.B.C.D.E.F.G.H.I.J.K.L.M.N.O.P.Q.R.S.T.U.V.W.X.Y.Z\"\n",
    "address = \"Mr. H. Potter,The cupboard under the Stairs,4 Privet Drive,Little Whinging,Surrey\"\n",
    "\n",
    "# TODO: Convert strings into Python lists\n",
    "letters = alphabet.split(\".\")\n",
    "formatted_address = address.split(\",\")\n",
    "\n",
    "# Do not change: Check your answer\n",
    "q3.check()"
   ]
  },
  {
   "cell_type": "code",
   "execution_count": 9,
   "id": "7f6ede7e",
   "metadata": {
    "execution": {
     "iopub.execute_input": "2025-02-26T08:27:13.704523Z",
     "iopub.status.busy": "2025-02-26T08:27:13.704169Z",
     "iopub.status.idle": "2025-02-26T08:27:13.708235Z",
     "shell.execute_reply": "2025-02-26T08:27:13.706964Z"
    },
    "papermill": {
     "duration": 0.013088,
     "end_time": "2025-02-26T08:27:13.710218",
     "exception": false,
     "start_time": "2025-02-26T08:27:13.697130",
     "status": "completed"
    },
    "tags": []
   },
   "outputs": [],
   "source": [
    "# Uncomment to see a hint\n",
    "#q3.hint()\n",
    "\n",
    "# Uncomment to see the solution\n",
    "#q3.solution()"
   ]
  },
  {
   "cell_type": "markdown",
   "id": "a07b2376",
   "metadata": {
    "papermill": {
     "duration": 0.005557,
     "end_time": "2025-02-26T08:27:13.721873",
     "exception": false,
     "start_time": "2025-02-26T08:27:13.716316",
     "status": "completed"
    },
    "tags": []
   },
   "source": [
    "# Question 4\n",
    "\n",
    "In the Python course, you'll learn all about **list comprehensions**, which allow you to create a list based on the values in another list.  In this question, you'll get a brief preview of how they work.\n",
    "\n",
    "Say we're working with the list below."
   ]
  },
  {
   "cell_type": "code",
   "execution_count": 10,
   "id": "55bacb31",
   "metadata": {
    "execution": {
     "iopub.execute_input": "2025-02-26T08:27:13.734734Z",
     "iopub.status.busy": "2025-02-26T08:27:13.734328Z",
     "iopub.status.idle": "2025-02-26T08:27:13.738930Z",
     "shell.execute_reply": "2025-02-26T08:27:13.737567Z"
    },
    "papermill": {
     "duration": 0.013294,
     "end_time": "2025-02-26T08:27:13.740890",
     "exception": false,
     "start_time": "2025-02-26T08:27:13.727596",
     "status": "completed"
    },
    "tags": []
   },
   "outputs": [],
   "source": [
    "test_ratings = [1, 2, 3, 4, 5]"
   ]
  },
  {
   "cell_type": "markdown",
   "id": "f916c7ec",
   "metadata": {
    "papermill": {
     "duration": 0.005484,
     "end_time": "2025-02-26T08:27:13.752574",
     "exception": false,
     "start_time": "2025-02-26T08:27:13.747090",
     "status": "completed"
    },
    "tags": []
   },
   "source": [
    "Then we can use this list (`test_ratings`) to create a new list (`test_liked`) where each item has been turned into a boolean, depending on whether or not the item is greater than or equal to four."
   ]
  },
  {
   "cell_type": "code",
   "execution_count": 11,
   "id": "09cd20eb",
   "metadata": {
    "execution": {
     "iopub.execute_input": "2025-02-26T08:27:13.766732Z",
     "iopub.status.busy": "2025-02-26T08:27:13.766320Z",
     "iopub.status.idle": "2025-02-26T08:27:13.771498Z",
     "shell.execute_reply": "2025-02-26T08:27:13.770078Z"
    },
    "papermill": {
     "duration": 0.014658,
     "end_time": "2025-02-26T08:27:13.773496",
     "exception": false,
     "start_time": "2025-02-26T08:27:13.758838",
     "status": "completed"
    },
    "tags": []
   },
   "outputs": [
    {
     "name": "stdout",
     "output_type": "stream",
     "text": [
      "[False, False, False, True, True]\n"
     ]
    }
   ],
   "source": [
    "test_liked = [i>=4 for i in test_ratings]\n",
    "print(test_liked)"
   ]
  },
  {
   "cell_type": "markdown",
   "id": "9ad0f207",
   "metadata": {
    "papermill": {
     "duration": 0.006051,
     "end_time": "2025-02-26T08:27:13.785766",
     "exception": false,
     "start_time": "2025-02-26T08:27:13.779715",
     "status": "completed"
    },
    "tags": []
   },
   "source": [
    "In this question, you'll use this list comprehension to define a function `percentage_liked()` that takes one argument as input:\n",
    "- `ratings`: list of ratings that people gave to a movie, where each rating is a number between 1-5, inclusive\n",
    "\n",
    "We say someone liked the movie, if they gave a rating of either 4 or 5.  Your function should return the percentage of people who liked the movie.\n",
    "\n",
    "For instance, if we supply a value of `[1, 2, 3, 4, 5, 4, 5, 1]`, then 50% (4/8) of the people liked the movie, and the function should return `0.5`.\n",
    "\n",
    "Part of the function has already been completed for you.  You need only use `list_liked` to calculate `percentage_liked`."
   ]
  },
  {
   "cell_type": "code",
   "execution_count": 12,
   "id": "d945ac4a",
   "metadata": {
    "execution": {
     "iopub.execute_input": "2025-02-26T08:27:13.799727Z",
     "iopub.status.busy": "2025-02-26T08:27:13.799338Z",
     "iopub.status.idle": "2025-02-26T08:27:13.807790Z",
     "shell.execute_reply": "2025-02-26T08:27:13.806583Z"
    },
    "papermill": {
     "duration": 0.017531,
     "end_time": "2025-02-26T08:27:13.809593",
     "exception": false,
     "start_time": "2025-02-26T08:27:13.792062",
     "status": "completed"
    },
    "tags": []
   },
   "outputs": [
    {
     "data": {
      "application/javascript": [
       "parent.postMessage({\"jupyterEvent\": \"custom.exercise_interaction\", \"data\": {\"outcomeType\": 1, \"valueTowardsCompletion\": 0.2, \"interactionType\": 1, \"questionType\": 2, \"questionId\": \"4_PercentageLiked\", \"learnToolsVersion\": \"0.3.4\", \"failureMessage\": \"\", \"exceptionClass\": \"\", \"trace\": \"\"}}, \"*\")"
      ],
      "text/plain": [
       "<IPython.core.display.Javascript object>"
      ]
     },
     "metadata": {},
     "output_type": "display_data"
    },
    {
     "data": {
      "text/markdown": [
       "<span style=\"color:#33cc33\">Correct</span>"
      ],
      "text/plain": [
       "Correct"
      ]
     },
     "metadata": {},
     "output_type": "display_data"
    }
   ],
   "source": [
    "\n",
    "def percentage_liked(ratings):\n",
    "    list_liked = [i>=4 for i in ratings]\n",
    "    # TODO: Complete the function\n",
    "    percentage_liked = sum(list_liked) / len(list_liked)\n",
    "    return percentage_liked\n",
    "\n",
    "# Do not change: should return 0.5\n",
    "percentage_liked([1, 2, 3, 4, 5, 4, 5, 1])\n",
    "\n",
    "# Do not change: Check your answer\n",
    "q4.check()"
   ]
  },
  {
   "cell_type": "code",
   "execution_count": 13,
   "id": "aa72950e",
   "metadata": {
    "execution": {
     "iopub.execute_input": "2025-02-26T08:27:13.823824Z",
     "iopub.status.busy": "2025-02-26T08:27:13.823409Z",
     "iopub.status.idle": "2025-02-26T08:27:13.827432Z",
     "shell.execute_reply": "2025-02-26T08:27:13.826203Z"
    },
    "papermill": {
     "duration": 0.012992,
     "end_time": "2025-02-26T08:27:13.829282",
     "exception": false,
     "start_time": "2025-02-26T08:27:13.816290",
     "status": "completed"
    },
    "tags": []
   },
   "outputs": [],
   "source": [
    "# Uncomment to see a hint\n",
    "#q4.hint()\n",
    "\n",
    "# Uncomment to see the solution\n",
    "#q4.solution()"
   ]
  },
  {
   "cell_type": "markdown",
   "id": "f40dd8a2",
   "metadata": {
    "papermill": {
     "duration": 0.005938,
     "end_time": "2025-02-26T08:27:13.841443",
     "exception": false,
     "start_time": "2025-02-26T08:27:13.835505",
     "status": "completed"
    },
    "tags": []
   },
   "source": [
    "# 🌶️ Question 5\n",
    " \n",
    "Say you're doing analytics for a website.  You need to write a function that returns the percentage growth in the total number of users relative to a specified number of years ago.\n",
    "\n",
    "Your function `percentage_growth()` should take two arguments as input:\n",
    "- `num_users` = Python list with the total number of users each year.  So `num_users[0]` is the total number of users in the first year, `num_users[1]` is the total number of users in the second year, and so on.  The final entry in the list gives the total number of users in the most recently completed year.\n",
    "- `yrs_ago` = number of years to go back in time when calculating the growth percentage\n",
    "\n",
    "For instance, say `num_users = [920344, 1043553, 1204334, 1458996, 1503323, 1593432, 1623463, 1843064, 1930992, 2001078]`.\n",
    "- if `yrs_ago = 1`, we want the function to return a value of about `0.036`. This corresponds to a percentage growth of approximately 3.6%, calculated as (2001078 - 1930992)/1930992.\n",
    "- if `years_ago = 7`, we would want to return approximately `0.66`.  This corresponds to a percentage growth of approximately 66%, calculated as (2001078 - 1204334)/1204334.\n",
    "\n",
    "Your coworker sent you a draft of a function, but it doesn't seem to be doing the correct calculation.  Can you figure out what has gone wrong and make the needed changes?"
   ]
  },
  {
   "cell_type": "code",
   "execution_count": 14,
   "id": "4cd4dbf3",
   "metadata": {
    "execution": {
     "iopub.execute_input": "2025-02-26T08:27:13.854964Z",
     "iopub.status.busy": "2025-02-26T08:27:13.854590Z",
     "iopub.status.idle": "2025-02-26T08:27:13.864566Z",
     "shell.execute_reply": "2025-02-26T08:27:13.863610Z"
    },
    "papermill": {
     "duration": 0.018611,
     "end_time": "2025-02-26T08:27:13.866228",
     "exception": false,
     "start_time": "2025-02-26T08:27:13.847617",
     "status": "completed"
    },
    "tags": []
   },
   "outputs": [
    {
     "name": "stdout",
     "output_type": "stream",
     "text": [
      "0.03629533421163837\n",
      "0.6615639847417742\n"
     ]
    },
    {
     "data": {
      "application/javascript": [
       "parent.postMessage({\"jupyterEvent\": \"custom.exercise_interaction\", \"data\": {\"outcomeType\": 1, \"valueTowardsCompletion\": 0.2, \"interactionType\": 1, \"questionType\": 2, \"questionId\": \"5_WebsiteAnalytics\", \"learnToolsVersion\": \"0.3.4\", \"failureMessage\": \"\", \"exceptionClass\": \"\", \"trace\": \"\"}}, \"*\")"
      ],
      "text/plain": [
       "<IPython.core.display.Javascript object>"
      ]
     },
     "metadata": {},
     "output_type": "display_data"
    },
    {
     "data": {
      "text/markdown": [
       "<span style=\"color:#33cc33\">Correct</span>"
      ],
      "text/plain": [
       "Correct"
      ]
     },
     "metadata": {},
     "output_type": "display_data"
    }
   ],
   "source": [
    "# TODO: Edit the function\n",
    "def percentage_growth(num_users, yrs_ago):\n",
    "    growth = (num_users[len(num_users)-1] - num_users[len(num_users)-yrs_ago-1])/num_users[len(num_users)-yrs_ago-1]\n",
    "    return growth\n",
    "\n",
    "# Do not change: Variable for calculating some test examples\n",
    "num_users_test = [920344, 1043553, 1204334, 1458996, 1503323, 1593432, 1623463, 1843064, 1930992, 2001078]\n",
    "\n",
    "# Do not change: Should return .036\n",
    "print(percentage_growth(num_users_test, 1))\n",
    "\n",
    "# Do not change: Should return 0.66\n",
    "print(percentage_growth(num_users_test, 7))\n",
    "\n",
    "# Do not change: Check your answer\n",
    "q5.check()"
   ]
  },
  {
   "cell_type": "code",
   "execution_count": 15,
   "id": "c8d92e3f",
   "metadata": {
    "execution": {
     "iopub.execute_input": "2025-02-26T08:27:13.880617Z",
     "iopub.status.busy": "2025-02-26T08:27:13.880284Z",
     "iopub.status.idle": "2025-02-26T08:27:13.884130Z",
     "shell.execute_reply": "2025-02-26T08:27:13.883161Z"
    },
    "papermill": {
     "duration": 0.013028,
     "end_time": "2025-02-26T08:27:13.885908",
     "exception": false,
     "start_time": "2025-02-26T08:27:13.872880",
     "status": "completed"
    },
    "tags": []
   },
   "outputs": [],
   "source": [
    "# Uncomment to see a hint\n",
    "#q5.hint()\n",
    "\n",
    "# Uncomment to see the solution\n",
    "#q5.solution()"
   ]
  },
  {
   "cell_type": "markdown",
   "id": "ea9117c9",
   "metadata": {
    "papermill": {
     "duration": 0.006257,
     "end_time": "2025-02-26T08:27:13.898614",
     "exception": false,
     "start_time": "2025-02-26T08:27:13.892357",
     "status": "completed"
    },
    "tags": []
   },
   "source": [
    "# Congratulations!\n",
    "\n",
    "Congratulations for finishing the Intro to Programming course!  You should be proud of your very first steps with learning programming.  As next steps, we recommend taking:\n",
    "- the **[Python course](http://www.kaggle.com/learn/python)**, and \n",
    "- the **[Intro to Machine Learning course](https://www.kaggle.com/learn/intro-to-machine-learning)**."
   ]
  },
  {
   "cell_type": "markdown",
   "id": "c365adbe",
   "metadata": {
    "papermill": {
     "duration": 0.006067,
     "end_time": "2025-02-26T08:27:13.911088",
     "exception": false,
     "start_time": "2025-02-26T08:27:13.905021",
     "status": "completed"
    },
    "tags": []
   },
   "source": [
    "---\n",
    "\n",
    "\n",
    "\n",
    "\n",
    "*Have questions or comments? Visit the [course discussion forum](https://www.kaggle.com/learn/intro-to-programming/discussion) to chat with other learners.*"
   ]
  }
 ],
 "metadata": {
  "kaggle": {
   "accelerator": "none",
   "dataSources": [],
   "isGpuEnabled": false,
   "isInternetEnabled": false,
   "language": "python",
   "sourceType": "notebook"
  },
  "kernelspec": {
   "display_name": "Python 3",
   "language": "python",
   "name": "python3"
  },
  "language_info": {
   "codemirror_mode": {
    "name": "ipython",
    "version": 3
   },
   "file_extension": ".py",
   "mimetype": "text/x-python",
   "name": "python",
   "nbconvert_exporter": "python",
   "pygments_lexer": "ipython3",
   "version": "3.10.12"
  },
  "papermill": {
   "default_parameters": {},
   "duration": 5.356157,
   "end_time": "2025-02-26T08:27:14.538262",
   "environment_variables": {},
   "exception": null,
   "input_path": "__notebook__.ipynb",
   "output_path": "__notebook__.ipynb",
   "parameters": {},
   "start_time": "2025-02-26T08:27:09.182105",
   "version": "2.6.0"
  }
 },
 "nbformat": 4,
 "nbformat_minor": 5
}
