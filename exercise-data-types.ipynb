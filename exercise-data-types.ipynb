{
 "cells": [
  {
   "cell_type": "markdown",
   "id": "3eb3cf32",
   "metadata": {
    "papermill": {
     "duration": 0.005971,
     "end_time": "2025-02-24T17:04:46.398228",
     "exception": false,
     "start_time": "2025-02-24T17:04:46.392257",
     "status": "completed"
    },
    "tags": []
   },
   "source": [
    "**This notebook is an exercise in the [Intro to Programming](https://www.kaggle.com/learn/intro-to-programming) course.  You can reference the tutorial at [this link](https://www.kaggle.com/alexisbcook/data-types).**\n",
    "\n",
    "---\n"
   ]
  },
  {
   "cell_type": "markdown",
   "id": "8f8f67e0",
   "metadata": {
    "papermill": {
     "duration": 0.005566,
     "end_time": "2025-02-24T17:04:46.409413",
     "exception": false,
     "start_time": "2025-02-24T17:04:46.403847",
     "status": "completed"
    },
    "tags": []
   },
   "source": [
    "In the tutorial, you learned about four different data types: floats, integers, strings, and booleans.  In this exercise, you'll experiment with them.\n",
    "\n",
    "# Set up the notebook\n",
    "\n",
    "Run the next code cell without changes to set up the notebook."
   ]
  },
  {
   "cell_type": "code",
   "execution_count": 1,
   "id": "d185411f",
   "metadata": {
    "execution": {
     "iopub.execute_input": "2025-02-24T17:04:46.422968Z",
     "iopub.status.busy": "2025-02-24T17:04:46.422450Z",
     "iopub.status.idle": "2025-02-24T17:04:47.447166Z",
     "shell.execute_reply": "2025-02-24T17:04:47.445845Z"
    },
    "papermill": {
     "duration": 1.03345,
     "end_time": "2025-02-24T17:04:47.448964",
     "exception": false,
     "start_time": "2025-02-24T17:04:46.415514",
     "status": "completed"
    },
    "tags": []
   },
   "outputs": [
    {
     "name": "stdout",
     "output_type": "stream",
     "text": [
      "Setup complete.\n"
     ]
    }
   ],
   "source": [
    "# Set up the exercise\n",
    "from learntools.core import binder\n",
    "binder.bind(globals())\n",
    "from learntools.intro_to_programming.ex3 import *\n",
    "print('Setup complete.')"
   ]
  },
  {
   "cell_type": "markdown",
   "id": "15d39b65",
   "metadata": {
    "papermill": {
     "duration": 0.005044,
     "end_time": "2025-02-24T17:04:47.459634",
     "exception": false,
     "start_time": "2025-02-24T17:04:47.454590",
     "status": "completed"
    },
    "tags": []
   },
   "source": [
    "# Question 1\n",
    "\n",
    "You have seen how to convert a float to an integer with the `int` function.  Try this out yourself by running the code cell below."
   ]
  },
  {
   "cell_type": "code",
   "execution_count": 2,
   "id": "f00ae770",
   "metadata": {
    "execution": {
     "iopub.execute_input": "2025-02-24T17:04:47.471885Z",
     "iopub.status.busy": "2025-02-24T17:04:47.471377Z",
     "iopub.status.idle": "2025-02-24T17:04:47.477484Z",
     "shell.execute_reply": "2025-02-24T17:04:47.476462Z"
    },
    "papermill": {
     "duration": 0.014092,
     "end_time": "2025-02-24T17:04:47.479098",
     "exception": false,
     "start_time": "2025-02-24T17:04:47.465006",
     "status": "completed"
    },
    "tags": []
   },
   "outputs": [
    {
     "name": "stdout",
     "output_type": "stream",
     "text": [
      "1.0\n",
      "<class 'float'>\n",
      "1\n",
      "<class 'int'>\n"
     ]
    }
   ],
   "source": [
    "# Define a float\n",
    "y = 1.\n",
    "print(y)\n",
    "print(type(y))\n",
    "\n",
    "# Convert float to integer with the int function\n",
    "z = int(y)\n",
    "print(z)\n",
    "print(type(z))"
   ]
  },
  {
   "cell_type": "markdown",
   "id": "21d4069b",
   "metadata": {
    "papermill": {
     "duration": 0.005173,
     "end_time": "2025-02-24T17:04:47.489933",
     "exception": false,
     "start_time": "2025-02-24T17:04:47.484760",
     "status": "completed"
    },
    "tags": []
   },
   "source": [
    "In this case, the float you are using has no numbers after the decimal.  \n",
    "- But what happens when you try to convert a float with a fractional part to an integer?  \n",
    "- How does the outcome of the `int` function change for positive and negative numbers?\n",
    "\n",
    "Use the next code cell to investigate and answer these questions.  Feel free to add or remove any lines of code -- it is your workspace!"
   ]
  },
  {
   "cell_type": "code",
   "execution_count": 3,
   "id": "72bc94a4",
   "metadata": {
    "execution": {
     "iopub.execute_input": "2025-02-24T17:04:47.502023Z",
     "iopub.status.busy": "2025-02-24T17:04:47.501630Z",
     "iopub.status.idle": "2025-02-24T17:04:47.507453Z",
     "shell.execute_reply": "2025-02-24T17:04:47.506099Z"
    },
    "papermill": {
     "duration": 0.013657,
     "end_time": "2025-02-24T17:04:47.509057",
     "exception": false,
     "start_time": "2025-02-24T17:04:47.495400",
     "status": "completed"
    },
    "tags": []
   },
   "outputs": [
    {
     "name": "stdout",
     "output_type": "stream",
     "text": [
      "1\n",
      "1\n",
      "-3\n",
      "-2\n"
     ]
    }
   ],
   "source": [
    "# Uncomment and run this code to get started!\n",
    "print(int(1.2321))\n",
    "print(int(1.747))\n",
    "print(int(-3.94535))\n",
    "print(int(-2.19774)) #the outcomes are similar "
   ]
  },
  {
   "cell_type": "markdown",
   "id": "77705c2c",
   "metadata": {
    "papermill": {
     "duration": 0.005296,
     "end_time": "2025-02-24T17:04:47.519961",
     "exception": false,
     "start_time": "2025-02-24T17:04:47.514665",
     "status": "completed"
    },
    "tags": []
   },
   "source": [
    "Once you have an answer, run the code cell below to see the solution.  Viewing the solution will give you credit for answering the problem."
   ]
  },
  {
   "cell_type": "code",
   "execution_count": 4,
   "id": "0f8bbce0",
   "metadata": {
    "execution": {
     "iopub.execute_input": "2025-02-24T17:04:47.532268Z",
     "iopub.status.busy": "2025-02-24T17:04:47.531870Z",
     "iopub.status.idle": "2025-02-24T17:04:47.540829Z",
     "shell.execute_reply": "2025-02-24T17:04:47.539707Z"
    },
    "papermill": {
     "duration": 0.017085,
     "end_time": "2025-02-24T17:04:47.542519",
     "exception": false,
     "start_time": "2025-02-24T17:04:47.525434",
     "status": "completed"
    },
    "tags": []
   },
   "outputs": [
    {
     "data": {
      "application/javascript": [
       "parent.postMessage({\"jupyterEvent\": \"custom.exercise_interaction\", \"data\": {\"outcomeType\": 1, \"valueTowardsCompletion\": 0.2, \"interactionType\": 1, \"questionType\": 4, \"questionId\": \"1_FloatToInt\", \"learnToolsVersion\": \"0.3.4\", \"failureMessage\": \"\", \"exceptionClass\": \"\", \"trace\": \"\"}}, \"*\")"
      ],
      "text/plain": [
       "<IPython.core.display.Javascript object>"
      ]
     },
     "metadata": {},
     "output_type": "display_data"
    },
    {
     "data": {
      "text/markdown": [
       "<span style=\"color:#33cc33\">Correct:</span> \n",
       "\n",
       "Negative floats are always rounded UP to the closest integer (for instance, both -1.1 and -1.9 are rounded up to -1). Positive floats are always rounded DOWN to the closest integer (for instance, 2.1 and 2.9 are rounded down to 2)."
      ],
      "text/plain": [
       "Correct: \n",
       "\n",
       "Negative floats are always rounded UP to the closest integer (for instance, both -1.1 and -1.9 are rounded up to -1). Positive floats are always rounded DOWN to the closest integer (for instance, 2.1 and 2.9 are rounded down to 2)."
      ]
     },
     "metadata": {},
     "output_type": "display_data"
    }
   ],
   "source": [
    "# Check your answer (Run this code cell to receive credit!)\n",
    "q1.check()"
   ]
  },
  {
   "cell_type": "markdown",
   "id": "fdc55688",
   "metadata": {
    "papermill": {
     "duration": 0.005512,
     "end_time": "2025-02-24T17:04:47.553968",
     "exception": false,
     "start_time": "2025-02-24T17:04:47.548456",
     "status": "completed"
    },
    "tags": []
   },
   "source": [
    "# Question 2\n",
    "\n",
    "In the tutorial, you learned about booleans (which can take a value of `True` or `False`), in addition to integers, floats, and strings.  For this question, your goal is to determine what happens when you multiply a boolean by any of these data types.  Specifically, \n",
    "- What happens when you multiply an integer or float by `True`?  What happens when you multiply them by `False`?  How does the answer change if the numbers are positive or negative?\n",
    "- What happens when you multiply a string by `True`?  By `False`?\n",
    "\n",
    "Use the next code cell for your investigation. "
   ]
  },
  {
   "cell_type": "code",
   "execution_count": 5,
   "id": "f27d5523",
   "metadata": {
    "execution": {
     "iopub.execute_input": "2025-02-24T17:04:47.566683Z",
     "iopub.status.busy": "2025-02-24T17:04:47.566303Z",
     "iopub.status.idle": "2025-02-24T17:04:47.571641Z",
     "shell.execute_reply": "2025-02-24T17:04:47.570516Z"
    },
    "papermill": {
     "duration": 0.013731,
     "end_time": "2025-02-24T17:04:47.573372",
     "exception": false,
     "start_time": "2025-02-24T17:04:47.559641",
     "status": "completed"
    },
    "tags": []
   },
   "outputs": [
    {
     "name": "stdout",
     "output_type": "stream",
     "text": [
      "3\n",
      "-3.1\n",
      "0\n",
      "<class 'str'>\n",
      "0\n"
     ]
    }
   ],
   "source": [
    "# Uncomment and run this code to get started!\n",
    "print(3 * True)\n",
    "print(-3.1 * True)\n",
    "print (4 * False)\n",
    "print(type(\"abc\" * False))\n",
    "print(len(\"abc\" * False))"
   ]
  },
  {
   "cell_type": "markdown",
   "id": "55921493",
   "metadata": {
    "papermill": {
     "duration": 0.00611,
     "end_time": "2025-02-24T17:04:47.585483",
     "exception": false,
     "start_time": "2025-02-24T17:04:47.579373",
     "status": "completed"
    },
    "tags": []
   },
   "source": [
    "Once you have an answer, run the code cell below to see the solution.  Viewing the solution will give you credit for answering the problem."
   ]
  },
  {
   "cell_type": "code",
   "execution_count": 6,
   "id": "a6dd2812",
   "metadata": {
    "execution": {
     "iopub.execute_input": "2025-02-24T17:04:47.600403Z",
     "iopub.status.busy": "2025-02-24T17:04:47.600037Z",
     "iopub.status.idle": "2025-02-24T17:04:47.608971Z",
     "shell.execute_reply": "2025-02-24T17:04:47.607788Z"
    },
    "papermill": {
     "duration": 0.019323,
     "end_time": "2025-02-24T17:04:47.610709",
     "exception": false,
     "start_time": "2025-02-24T17:04:47.591386",
     "status": "completed"
    },
    "tags": []
   },
   "outputs": [
    {
     "data": {
      "application/javascript": [
       "parent.postMessage({\"jupyterEvent\": \"custom.exercise_interaction\", \"data\": {\"outcomeType\": 1, \"valueTowardsCompletion\": 0.2, \"interactionType\": 1, \"questionType\": 4, \"questionId\": \"2_MultiplyBooleans\", \"learnToolsVersion\": \"0.3.4\", \"failureMessage\": \"\", \"exceptionClass\": \"\", \"trace\": \"\"}}, \"*\")"
      ],
      "text/plain": [
       "<IPython.core.display.Javascript object>"
      ]
     },
     "metadata": {},
     "output_type": "display_data"
    },
    {
     "data": {
      "text/markdown": [
       "<span style=\"color:#33cc33\">Correct:</span> \n",
       "\n",
       "When you multiple an integer or float by a boolean with value `True`, it just returns that same integer or float (and is equivalent to multiplying by 1).  If you multiply an integer or float by a boolean with value `False`, it always returns 0.  This is true for both positive and negative numbers.  If you multiply a string by a boolean with value `True`, it just returns that same string.  And if you multiply a string by a boolean with value `False`, it returns an empty string (or a string with length zero)."
      ],
      "text/plain": [
       "Correct: \n",
       "\n",
       "When you multiple an integer or float by a boolean with value `True`, it just returns that same integer or float (and is equivalent to multiplying by 1).  If you multiply an integer or float by a boolean with value `False`, it always returns 0.  This is true for both positive and negative numbers.  If you multiply a string by a boolean with value `True`, it just returns that same string.  And if you multiply a string by a boolean with value `False`, it returns an empty string (or a string with length zero)."
      ]
     },
     "metadata": {},
     "output_type": "display_data"
    }
   ],
   "source": [
    "# Check your answer (Run this code cell to receive credit!)\n",
    "q2.check()"
   ]
  },
  {
   "cell_type": "code",
   "execution_count": null,
   "id": "56843908",
   "metadata": {
    "papermill": {
     "duration": 0.006482,
     "end_time": "2025-02-24T17:04:47.624703",
     "exception": false,
     "start_time": "2025-02-24T17:04:47.618221",
     "status": "completed"
    },
    "tags": []
   },
   "outputs": [],
   "source": []
  },
  {
   "cell_type": "markdown",
   "id": "a944c07c",
   "metadata": {
    "papermill": {
     "duration": 0.005776,
     "end_time": "2025-02-24T17:04:47.636823",
     "exception": false,
     "start_time": "2025-02-24T17:04:47.631047",
     "status": "completed"
    },
    "tags": []
   },
   "source": [
    "# Question 3\n",
    "\n",
    "In this question, you will build off your work from the previous exercise to write a function that estimates the value of a house.\n",
    "\n",
    "Use the next code cell to create a function `get_expected_cost` that takes as input three variables:\n",
    "- `beds` - number of bedrooms (data type float)\n",
    "- `baths` - number of bathrooms (data type float)\n",
    "- `has_basement` - whether or not the house has a basement (data type boolean)\n",
    "\n",
    "It should return the expected cost of a house with those characteristics. Assume that:\n",
    "- the expected cost for a house with 0 bedrooms and 0 bathrooms, and no basement is 80000, \n",
    "- each bedroom adds 30000 to the expected cost,\n",
    "- each bathroom adds 10000 to the expected cost, and\n",
    "- a basement adds 40000 to the expected cost.\n",
    "\n",
    "For instance,\n",
    "- a house with 1 bedroom, 1 bathroom, and no basement has an expected cost of 80000 + 30000 + 10000 = 120000.  This value will be calculated with `get_expected_cost(1, 1, False)`.\n",
    "- a house with 2 bedrooms, 1 bathroom, and a basement has an expected cost of 80000 + 2*30000 + 10000 + 40000 = 190000.  This value will be calculated with `get_expected_cost(2, 1, True)`.\n",
    "\n",
    "Remember you can always get a hint by uncommenting `q3.hint()` in the code cell following the next!"
   ]
  },
  {
   "cell_type": "code",
   "execution_count": 7,
   "id": "70b0e42e",
   "metadata": {
    "execution": {
     "iopub.execute_input": "2025-02-24T17:04:47.650373Z",
     "iopub.status.busy": "2025-02-24T17:04:47.650034Z",
     "iopub.status.idle": "2025-02-24T17:04:47.657936Z",
     "shell.execute_reply": "2025-02-24T17:04:47.657086Z"
    },
    "papermill": {
     "duration": 0.016576,
     "end_time": "2025-02-24T17:04:47.659558",
     "exception": false,
     "start_time": "2025-02-24T17:04:47.642982",
     "status": "completed"
    },
    "tags": []
   },
   "outputs": [
    {
     "data": {
      "application/javascript": [
       "parent.postMessage({\"jupyterEvent\": \"custom.exercise_interaction\", \"data\": {\"outcomeType\": 1, \"valueTowardsCompletion\": 0.2, \"interactionType\": 1, \"questionType\": 2, \"questionId\": \"3_EstimateHouseValueBool\", \"learnToolsVersion\": \"0.3.4\", \"failureMessage\": \"\", \"exceptionClass\": \"\", \"trace\": \"\"}}, \"*\")"
      ],
      "text/plain": [
       "<IPython.core.display.Javascript object>"
      ]
     },
     "metadata": {},
     "output_type": "display_data"
    },
    {
     "data": {
      "text/markdown": [
       "<span style=\"color:#33cc33\">Correct</span>"
      ],
      "text/plain": [
       "Correct"
      ]
     },
     "metadata": {},
     "output_type": "display_data"
    }
   ],
   "source": [
    "# TODO: Complete the function\n",
    "def get_expected_cost(beds, baths, has_basement):\n",
    "    value = 80000 + (30000 * beds) + (10000 * baths) + (40000 * has_basement)\n",
    "    return value\n",
    "\n",
    "# Check your answer \n",
    "q3.check()"
   ]
  },
  {
   "cell_type": "code",
   "execution_count": 8,
   "id": "90582594",
   "metadata": {
    "execution": {
     "iopub.execute_input": "2025-02-24T17:04:47.673631Z",
     "iopub.status.busy": "2025-02-24T17:04:47.673279Z",
     "iopub.status.idle": "2025-02-24T17:04:47.677262Z",
     "shell.execute_reply": "2025-02-24T17:04:47.676112Z"
    },
    "papermill": {
     "duration": 0.012831,
     "end_time": "2025-02-24T17:04:47.678864",
     "exception": false,
     "start_time": "2025-02-24T17:04:47.666033",
     "status": "completed"
    },
    "tags": []
   },
   "outputs": [],
   "source": [
    "# Uncomment to see a hint\n",
    "#q3.hint()\n",
    "\n",
    "# Uncomment to view the solution\n",
    "#q3.solution()"
   ]
  },
  {
   "cell_type": "markdown",
   "id": "2a7fe3ef",
   "metadata": {
    "papermill": {
     "duration": 0.006546,
     "end_time": "2025-02-24T17:04:47.692304",
     "exception": false,
     "start_time": "2025-02-24T17:04:47.685758",
     "status": "completed"
    },
    "tags": []
   },
   "source": [
    "# Question 4\n",
    "\n",
    "We'll continue our study of boolean arithmetic.  For this question, your task is to provide a description of what happpens when you add booleans. \n",
    "\n",
    "Use the next code cell for your investigation.  Feel free to add or remove any lines of code - use it as your workspace!"
   ]
  },
  {
   "cell_type": "code",
   "execution_count": 9,
   "id": "5e85906d",
   "metadata": {
    "execution": {
     "iopub.execute_input": "2025-02-24T17:04:47.706273Z",
     "iopub.status.busy": "2025-02-24T17:04:47.705895Z",
     "iopub.status.idle": "2025-02-24T17:04:47.712914Z",
     "shell.execute_reply": "2025-02-24T17:04:47.711709Z"
    },
    "papermill": {
     "duration": 0.015883,
     "end_time": "2025-02-24T17:04:47.714668",
     "exception": false,
     "start_time": "2025-02-24T17:04:47.698785",
     "status": "completed"
    },
    "tags": []
   },
   "outputs": [
    {
     "name": "stdout",
     "output_type": "stream",
     "text": [
      "0\n",
      "1\n",
      "1\n",
      "2\n",
      "3\n",
      "2\n"
     ]
    }
   ],
   "source": [
    "print(False + False)\n",
    "print(True + False)\n",
    "print(False + True)\n",
    "print(True + True)\n",
    "print(False + True + True + True)\n",
    "print(False + True + True + False + False)"
   ]
  },
  {
   "cell_type": "markdown",
   "id": "58b9e15c",
   "metadata": {
    "papermill": {
     "duration": 0.006118,
     "end_time": "2025-02-24T17:04:47.727204",
     "exception": false,
     "start_time": "2025-02-24T17:04:47.721086",
     "status": "completed"
    },
    "tags": []
   },
   "source": [
    "Once you have an answer, run the code cell below to see the solution.  Viewing the solution will give you credit for answering the problem."
   ]
  },
  {
   "cell_type": "code",
   "execution_count": 10,
   "id": "82bffd11",
   "metadata": {
    "execution": {
     "iopub.execute_input": "2025-02-24T17:04:47.741216Z",
     "iopub.status.busy": "2025-02-24T17:04:47.740811Z",
     "iopub.status.idle": "2025-02-24T17:04:47.748081Z",
     "shell.execute_reply": "2025-02-24T17:04:47.747113Z"
    },
    "papermill": {
     "duration": 0.016231,
     "end_time": "2025-02-24T17:04:47.749788",
     "exception": false,
     "start_time": "2025-02-24T17:04:47.733557",
     "status": "completed"
    },
    "tags": []
   },
   "outputs": [
    {
     "data": {
      "application/javascript": [
       "parent.postMessage({\"jupyterEvent\": \"custom.exercise_interaction\", \"data\": {\"outcomeType\": 1, \"valueTowardsCompletion\": 0.2, \"interactionType\": 1, \"questionType\": 4, \"questionId\": \"4_AddingBooleans\", \"learnToolsVersion\": \"0.3.4\", \"failureMessage\": \"\", \"exceptionClass\": \"\", \"trace\": \"\"}}, \"*\")"
      ],
      "text/plain": [
       "<IPython.core.display.Javascript object>"
      ]
     },
     "metadata": {},
     "output_type": "display_data"
    },
    {
     "data": {
      "text/markdown": [
       "<span style=\"color:#33cc33\">Correct:</span> \n",
       "\n",
       "When you add booleans, adding `False` is equivalent to adding 0, and adding `True` is equivalent to adding 1."
      ],
      "text/plain": [
       "Correct: \n",
       "\n",
       "When you add booleans, adding `False` is equivalent to adding 0, and adding `True` is equivalent to adding 1."
      ]
     },
     "metadata": {},
     "output_type": "display_data"
    }
   ],
   "source": [
    "# Check your answer (Run this code cell to receive credit!)\n",
    "q4.check()"
   ]
  },
  {
   "cell_type": "markdown",
   "id": "2a5774e0",
   "metadata": {
    "papermill": {
     "duration": 0.006082,
     "end_time": "2025-02-24T17:04:47.762430",
     "exception": false,
     "start_time": "2025-02-24T17:04:47.756348",
     "status": "completed"
    },
    "tags": []
   },
   "source": [
    "# 🌶️ Question 5\n",
    "\n",
    "You own an online shop where you sell rings with custom engravings.  You offer both gold plated and solid gold rings.\n",
    "- Gold plated rings have a base cost of \\\\$50, and you charge \\\\$7 per engraved unit.  \n",
    "- Solid gold rings have a base cost of \\\\$100, and you charge \\\\$10 per engraved unit.\n",
    "- Spaces and punctuation are counted as engraved units.\n",
    "\n",
    "Write a function `cost_of_project()` that takes two arguments:\n",
    "- `engraving` - a Python string with the text of the engraving\n",
    "- `solid_gold` - a Boolean that indicates whether the ring is solid gold\n",
    "\n",
    "It should return the cost of the project.  This question should be fairly challenging, and you may need a hint."
   ]
  },
  {
   "cell_type": "code",
   "execution_count": 11,
   "id": "09f90de5",
   "metadata": {
    "execution": {
     "iopub.execute_input": "2025-02-24T17:04:47.776596Z",
     "iopub.status.busy": "2025-02-24T17:04:47.776259Z",
     "iopub.status.idle": "2025-02-24T17:04:47.784326Z",
     "shell.execute_reply": "2025-02-24T17:04:47.783303Z"
    },
    "papermill": {
     "duration": 0.017257,
     "end_time": "2025-02-24T17:04:47.786022",
     "exception": false,
     "start_time": "2025-02-24T17:04:47.768765",
     "status": "completed"
    },
    "tags": []
   },
   "outputs": [
    {
     "data": {
      "application/javascript": [
       "parent.postMessage({\"jupyterEvent\": \"custom.exercise_interaction\", \"data\": {\"outcomeType\": 1, \"valueTowardsCompletion\": 0.2, \"interactionType\": 1, \"questionType\": 2, \"questionId\": \"5_CustomEngravings\", \"learnToolsVersion\": \"0.3.4\", \"failureMessage\": \"\", \"exceptionClass\": \"\", \"trace\": \"\"}}, \"*\")"
      ],
      "text/plain": [
       "<IPython.core.display.Javascript object>"
      ]
     },
     "metadata": {},
     "output_type": "display_data"
    },
    {
     "data": {
      "text/markdown": [
       "<span style=\"color:#33cc33\">Correct</span>"
      ],
      "text/plain": [
       "Correct"
      ]
     },
     "metadata": {},
     "output_type": "display_data"
    }
   ],
   "source": [
    "def cost_of_project(engraving, solid_gold):\n",
    "    cost = (not solid_gold) * (50 + 7 * len(engraving)) + solid_gold * (100 + 10 * len(engraving))\n",
    "    return cost\n",
    "\n",
    "# Check your answer\n",
    "q5.check()"
   ]
  },
  {
   "cell_type": "code",
   "execution_count": 12,
   "id": "e18a8289",
   "metadata": {
    "execution": {
     "iopub.execute_input": "2025-02-24T17:04:47.800854Z",
     "iopub.status.busy": "2025-02-24T17:04:47.800470Z",
     "iopub.status.idle": "2025-02-24T17:04:47.804254Z",
     "shell.execute_reply": "2025-02-24T17:04:47.803327Z"
    },
    "papermill": {
     "duration": 0.013073,
     "end_time": "2025-02-24T17:04:47.805906",
     "exception": false,
     "start_time": "2025-02-24T17:04:47.792833",
     "status": "completed"
    },
    "tags": []
   },
   "outputs": [],
   "source": [
    "# Uncomment to see a hint\n",
    "#q5.hint()\n",
    "\n",
    "# Uncomment to view the solution\n",
    "#q5.solution()"
   ]
  },
  {
   "cell_type": "markdown",
   "id": "f99a17b0",
   "metadata": {
    "papermill": {
     "duration": 0.007054,
     "end_time": "2025-02-24T17:04:47.819935",
     "exception": false,
     "start_time": "2025-02-24T17:04:47.812881",
     "status": "completed"
    },
    "tags": []
   },
   "source": [
    "Run the next code cell to calculate the cost of engraving `Charlie+Denver` on a solid gold ring."
   ]
  },
  {
   "cell_type": "code",
   "execution_count": 13,
   "id": "0c03d0bc",
   "metadata": {
    "execution": {
     "iopub.execute_input": "2025-02-24T17:04:47.835686Z",
     "iopub.status.busy": "2025-02-24T17:04:47.835334Z",
     "iopub.status.idle": "2025-02-24T17:04:47.840772Z",
     "shell.execute_reply": "2025-02-24T17:04:47.839516Z"
    },
    "papermill": {
     "duration": 0.0154,
     "end_time": "2025-02-24T17:04:47.842481",
     "exception": false,
     "start_time": "2025-02-24T17:04:47.827081",
     "status": "completed"
    },
    "tags": []
   },
   "outputs": [
    {
     "name": "stdout",
     "output_type": "stream",
     "text": [
      "240\n"
     ]
    }
   ],
   "source": [
    "work_one = cost_of_project(\"Charlie+Denver\", True)\n",
    "print(work_one)"
   ]
  },
  {
   "cell_type": "markdown",
   "id": "0bdf02cf",
   "metadata": {
    "papermill": {
     "duration": 0.006513,
     "end_time": "2025-02-24T17:04:47.855789",
     "exception": false,
     "start_time": "2025-02-24T17:04:47.849276",
     "status": "completed"
    },
    "tags": []
   },
   "source": [
    "Use the next code cell to calculate the cost of engraving `08/10/2000` on a gold plated ring."
   ]
  },
  {
   "cell_type": "code",
   "execution_count": 14,
   "id": "9469df4e",
   "metadata": {
    "execution": {
     "iopub.execute_input": "2025-02-24T17:04:47.870682Z",
     "iopub.status.busy": "2025-02-24T17:04:47.870353Z",
     "iopub.status.idle": "2025-02-24T17:04:47.875282Z",
     "shell.execute_reply": "2025-02-24T17:04:47.874194Z"
    },
    "papermill": {
     "duration": 0.014498,
     "end_time": "2025-02-24T17:04:47.877067",
     "exception": false,
     "start_time": "2025-02-24T17:04:47.862569",
     "status": "completed"
    },
    "tags": []
   },
   "outputs": [
    {
     "name": "stdout",
     "output_type": "stream",
     "text": [
      "120\n"
     ]
    }
   ],
   "source": [
    "work_two = cost_of_project(\"08/10/2000\", False)\n",
    "print(work_two)"
   ]
  },
  {
   "cell_type": "markdown",
   "id": "b94baafb",
   "metadata": {
    "papermill": {
     "duration": 0.00675,
     "end_time": "2025-02-24T17:04:47.890915",
     "exception": false,
     "start_time": "2025-02-24T17:04:47.884165",
     "status": "completed"
    },
    "tags": []
   },
   "source": [
    "# Keep going\n",
    "\n",
    "Continue to the next lesson to **[learn about conditions and conditional statements](https://www.kaggle.com/alexisbcook/conditions-and-conditional-statements)**."
   ]
  },
  {
   "cell_type": "markdown",
   "id": "1a4a7dfc",
   "metadata": {
    "papermill": {
     "duration": 0.006496,
     "end_time": "2025-02-24T17:04:47.904340",
     "exception": false,
     "start_time": "2025-02-24T17:04:47.897844",
     "status": "completed"
    },
    "tags": []
   },
   "source": [
    "---\n",
    "\n",
    "\n",
    "\n",
    "\n",
    "*Have questions or comments? Visit the [course discussion forum](https://www.kaggle.com/learn/intro-to-programming/discussion) to chat with other learners.*"
   ]
  }
 ],
 "metadata": {
  "kaggle": {
   "accelerator": "none",
   "dataSources": [],
   "isGpuEnabled": false,
   "isInternetEnabled": false,
   "language": "python",
   "sourceType": "notebook"
  },
  "kernelspec": {
   "display_name": "Python 3",
   "language": "python",
   "name": "python3"
  },
  "language_info": {
   "codemirror_mode": {
    "name": "ipython",
    "version": 3
   },
   "file_extension": ".py",
   "mimetype": "text/x-python",
   "name": "python",
   "nbconvert_exporter": "python",
   "pygments_lexer": "ipython3",
   "version": "3.10.12"
  },
  "papermill": {
   "default_parameters": {},
   "duration": 5.171841,
   "end_time": "2025-02-24T17:04:48.532340",
   "environment_variables": {},
   "exception": null,
   "input_path": "__notebook__.ipynb",
   "output_path": "__notebook__.ipynb",
   "parameters": {},
   "start_time": "2025-02-24T17:04:43.360499",
   "version": "2.3.3"
  }
 },
 "nbformat": 4,
 "nbformat_minor": 5
}
